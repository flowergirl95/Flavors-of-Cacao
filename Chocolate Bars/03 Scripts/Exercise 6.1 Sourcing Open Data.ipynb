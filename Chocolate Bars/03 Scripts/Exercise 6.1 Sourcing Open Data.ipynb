{
 "cells": [
  {
   "cell_type": "code",
   "execution_count": 67,
   "id": "68e35921-deed-41a6-8f77-7611017a4b9f",
   "metadata": {},
   "outputs": [],
   "source": [
    "#import libraries\n",
    "import pandas as pd\n",
    "import numpy as np\n",
    "import os"
   ]
  },
  {
   "cell_type": "code",
   "execution_count": 69,
   "id": "cc23b770-0249-4633-8d41-b5221044d3b9",
   "metadata": {},
   "outputs": [],
   "source": [
    "path = r'C:\\Users\\beaac\\Desktop\\Chocolate Bars'"
   ]
  },
  {
   "cell_type": "code",
   "execution_count": 71,
   "id": "367a0afb-4636-4054-86bb-87bfba186056",
   "metadata": {},
   "outputs": [],
   "source": [
    " #importing flavors_of_cacao_data\n",
    "df_flavors_original= pd.read_csv(os.path.join(path, '02 Data', 'Original Data', 'flavors_of_cacao.csv'), index_col = False)"
   ]
  },
  {
   "cell_type": "markdown",
   "id": "906a805a-da90-4b66-8f71-0f2b48d9c573",
   "metadata": {},
   "source": [
    "DATA CONSISTENCY CHECKS"
   ]
  },
  {
   "cell_type": "code",
   "execution_count": 74,
   "id": "d79b8924-75d4-4697-8f13-0a3075cc267b",
   "metadata": {},
   "outputs": [
    {
     "data": {
      "text/html": [
       "<div>\n",
       "<style scoped>\n",
       "    .dataframe tbody tr th:only-of-type {\n",
       "        vertical-align: middle;\n",
       "    }\n",
       "\n",
       "    .dataframe tbody tr th {\n",
       "        vertical-align: top;\n",
       "    }\n",
       "\n",
       "    .dataframe thead th {\n",
       "        text-align: right;\n",
       "    }\n",
       "</style>\n",
       "<table border=\"1\" class=\"dataframe\">\n",
       "  <thead>\n",
       "    <tr style=\"text-align: right;\">\n",
       "      <th></th>\n",
       "      <th>Company \\n(Maker-if known)</th>\n",
       "      <th>Specific Bean Origin\\nor Bar Name</th>\n",
       "      <th>REF</th>\n",
       "      <th>Review\\nDate</th>\n",
       "      <th>Cocoa\\nPercent</th>\n",
       "      <th>Company\\nLocation</th>\n",
       "      <th>Rating</th>\n",
       "      <th>Bean\\nType</th>\n",
       "      <th>Broad Bean\\nOrigin</th>\n",
       "    </tr>\n",
       "  </thead>\n",
       "  <tbody>\n",
       "    <tr>\n",
       "      <th>0</th>\n",
       "      <td>A. Morin</td>\n",
       "      <td>Agua Grande</td>\n",
       "      <td>1876</td>\n",
       "      <td>2016</td>\n",
       "      <td>63%</td>\n",
       "      <td>France</td>\n",
       "      <td>3.75</td>\n",
       "      <td></td>\n",
       "      <td>Sao Tome</td>\n",
       "    </tr>\n",
       "    <tr>\n",
       "      <th>1</th>\n",
       "      <td>A. Morin</td>\n",
       "      <td>Kpime</td>\n",
       "      <td>1676</td>\n",
       "      <td>2015</td>\n",
       "      <td>70%</td>\n",
       "      <td>France</td>\n",
       "      <td>2.75</td>\n",
       "      <td></td>\n",
       "      <td>Togo</td>\n",
       "    </tr>\n",
       "    <tr>\n",
       "      <th>2</th>\n",
       "      <td>A. Morin</td>\n",
       "      <td>Atsane</td>\n",
       "      <td>1676</td>\n",
       "      <td>2015</td>\n",
       "      <td>70%</td>\n",
       "      <td>France</td>\n",
       "      <td>3.00</td>\n",
       "      <td></td>\n",
       "      <td>Togo</td>\n",
       "    </tr>\n",
       "    <tr>\n",
       "      <th>3</th>\n",
       "      <td>A. Morin</td>\n",
       "      <td>Akata</td>\n",
       "      <td>1680</td>\n",
       "      <td>2015</td>\n",
       "      <td>70%</td>\n",
       "      <td>France</td>\n",
       "      <td>3.50</td>\n",
       "      <td></td>\n",
       "      <td>Togo</td>\n",
       "    </tr>\n",
       "    <tr>\n",
       "      <th>4</th>\n",
       "      <td>A. Morin</td>\n",
       "      <td>Quilla</td>\n",
       "      <td>1704</td>\n",
       "      <td>2015</td>\n",
       "      <td>70%</td>\n",
       "      <td>France</td>\n",
       "      <td>3.50</td>\n",
       "      <td></td>\n",
       "      <td>Peru</td>\n",
       "    </tr>\n",
       "  </tbody>\n",
       "</table>\n",
       "</div>"
      ],
      "text/plain": [
       "  Company \\n(Maker-if known) Specific Bean Origin\\nor Bar Name   REF  \\\n",
       "0                   A. Morin                       Agua Grande  1876   \n",
       "1                   A. Morin                             Kpime  1676   \n",
       "2                   A. Morin                            Atsane  1676   \n",
       "3                   A. Morin                             Akata  1680   \n",
       "4                   A. Morin                            Quilla  1704   \n",
       "\n",
       "   Review\\nDate Cocoa\\nPercent Company\\nLocation  Rating Bean\\nType  \\\n",
       "0          2016            63%            France    3.75              \n",
       "1          2015            70%            France    2.75              \n",
       "2          2015            70%            France    3.00              \n",
       "3          2015            70%            France    3.50              \n",
       "4          2015            70%            France    3.50              \n",
       "\n",
       "  Broad Bean\\nOrigin  \n",
       "0           Sao Tome  \n",
       "1               Togo  \n",
       "2               Togo  \n",
       "3               Togo  \n",
       "4               Peru  "
      ]
     },
     "execution_count": 74,
     "metadata": {},
     "output_type": "execute_result"
    }
   ],
   "source": [
    "df_flavors_original.head()"
   ]
  },
  {
   "cell_type": "code",
   "execution_count": 76,
   "id": "ea187559-ea83-469c-b32c-f756d279455e",
   "metadata": {},
   "outputs": [],
   "source": [
    "#Standardize column names\n",
    "df_flavors_original.columns= [col.replace('\\n',' ').strip() for col in df_flavors_original.columns]\n",
    "\n",
    "df_flavors_original.rename(columns={\n",
    "    'Company (Maker-if Know)': 'Company',\n",
    "    'Specific Bean Origin or Bar Name': 'Bar_Name',\n",
    "    'Review Date': 'Review_Date',\n",
    "    'Cocoa Percent': 'Cocoa_Percent',\n",
    "    'Company Location': 'Location',\n",
    "    'Bean Type': 'Bean_Type',\n",
    "    'Broad Bean Origin': 'Bean_Origin'\n",
    "}, inplace= True)\n"
   ]
  },
  {
   "cell_type": "code",
   "execution_count": 78,
   "id": "5cc6dd0c-38d2-41e8-a233-fbf11833ba58",
   "metadata": {},
   "outputs": [
    {
     "data": {
      "text/plain": [
       "Index(['Company  (Maker-if known)', 'Bar_Name', 'REF', 'Review_Date',\n",
       "       'Cocoa_Percent', 'Location', 'Rating', 'Bean_Type', 'Bean_Origin'],\n",
       "      dtype='object')"
      ]
     },
     "execution_count": 78,
     "metadata": {},
     "output_type": "execute_result"
    }
   ],
   "source": [
    "df_flavors_original.columns"
   ]
  },
  {
   "cell_type": "code",
   "execution_count": 80,
   "id": "2ee7bd0e-bbf1-40d4-a8e3-708be06ecaca",
   "metadata": {},
   "outputs": [
    {
     "name": "stdout",
     "output_type": "stream",
     "text": [
      "<class 'pandas.core.frame.DataFrame'>\n",
      "RangeIndex: 1795 entries, 0 to 1794\n",
      "Data columns (total 9 columns):\n",
      " #   Column                     Non-Null Count  Dtype  \n",
      "---  ------                     --------------  -----  \n",
      " 0   Company  (Maker-if known)  1795 non-null   object \n",
      " 1   Bar_Name                   1795 non-null   object \n",
      " 2   REF                        1795 non-null   int64  \n",
      " 3   Review_Date                1795 non-null   int64  \n",
      " 4   Cocoa_Percent              1795 non-null   object \n",
      " 5   Location                   1795 non-null   object \n",
      " 6   Rating                     1795 non-null   float64\n",
      " 7   Bean_Type                  1794 non-null   object \n",
      " 8   Bean_Origin                1794 non-null   object \n",
      "dtypes: float64(1), int64(2), object(6)\n",
      "memory usage: 126.3+ KB\n"
     ]
    }
   ],
   "source": [
    "df_flavors_original.info()"
   ]
  },
  {
   "cell_type": "code",
   "execution_count": 82,
   "id": "903df4ed-2e78-45c9-9a3a-f60fae9ec933",
   "metadata": {},
   "outputs": [],
   "source": [
    "# Convert CocoaPercent to Numeric value\n",
    "df_flavors_original['Cocoa_Percent'] = df_flavors_original['Cocoa_Percent'].str.replace('%', '').astype(float)\n"
   ]
  },
  {
   "cell_type": "code",
   "execution_count": 84,
   "id": "3a294aa8-d2f0-4ba0-9877-e9fc6b00380e",
   "metadata": {},
   "outputs": [
    {
     "data": {
      "text/plain": [
       "Company  (Maker-if known)    0\n",
       "Bar_Name                     0\n",
       "REF                          0\n",
       "Review_Date                  0\n",
       "Cocoa_Percent                0\n",
       "Location                     0\n",
       "Rating                       0\n",
       "Bean_Type                    1\n",
       "Bean_Origin                  1\n",
       "dtype: int64"
      ]
     },
     "execution_count": 84,
     "metadata": {},
     "output_type": "execute_result"
    }
   ],
   "source": [
    "# Finding Missing Values\n",
    "df_flavors_original.isnull().sum()\n"
   ]
  },
  {
   "cell_type": "code",
   "execution_count": 86,
   "id": "4cff0929-9bc1-4eeb-902d-cc92425afcb9",
   "metadata": {},
   "outputs": [],
   "source": [
    "# new data frame for null value in Bean Type\n",
    "df_nan = df_flavors_original[df_flavors_original['Bean_Type'].isnull()== True]"
   ]
  },
  {
   "cell_type": "code",
   "execution_count": 88,
   "id": "54a0a830-87d7-4785-b45c-84c146441479",
   "metadata": {},
   "outputs": [
    {
     "data": {
      "text/html": [
       "<div>\n",
       "<style scoped>\n",
       "    .dataframe tbody tr th:only-of-type {\n",
       "        vertical-align: middle;\n",
       "    }\n",
       "\n",
       "    .dataframe tbody tr th {\n",
       "        vertical-align: top;\n",
       "    }\n",
       "\n",
       "    .dataframe thead th {\n",
       "        text-align: right;\n",
       "    }\n",
       "</style>\n",
       "<table border=\"1\" class=\"dataframe\">\n",
       "  <thead>\n",
       "    <tr style=\"text-align: right;\">\n",
       "      <th></th>\n",
       "      <th>Company  (Maker-if known)</th>\n",
       "      <th>Bar_Name</th>\n",
       "      <th>REF</th>\n",
       "      <th>Review_Date</th>\n",
       "      <th>Cocoa_Percent</th>\n",
       "      <th>Location</th>\n",
       "      <th>Rating</th>\n",
       "      <th>Bean_Type</th>\n",
       "      <th>Bean_Origin</th>\n",
       "    </tr>\n",
       "  </thead>\n",
       "  <tbody>\n",
       "    <tr>\n",
       "      <th>1544</th>\n",
       "      <td>Soma</td>\n",
       "      <td>Three Amigos(Chuao, Wild Bolivia, D.R.)</td>\n",
       "      <td>676</td>\n",
       "      <td>2011</td>\n",
       "      <td>70.0</td>\n",
       "      <td>Canada</td>\n",
       "      <td>4.0</td>\n",
       "      <td>NaN</td>\n",
       "      <td>Ven, Bolivia, D.R.</td>\n",
       "    </tr>\n",
       "  </tbody>\n",
       "</table>\n",
       "</div>"
      ],
      "text/plain": [
       "     Company  (Maker-if known)                                 Bar_Name  REF  \\\n",
       "1544                      Soma  Three Amigos(Chuao, Wild Bolivia, D.R.)  676   \n",
       "\n",
       "      Review_Date  Cocoa_Percent Location  Rating Bean_Type  \\\n",
       "1544         2011           70.0   Canada     4.0       NaN   \n",
       "\n",
       "             Bean_Origin  \n",
       "1544  Ven, Bolivia, D.R.  "
      ]
     },
     "execution_count": 88,
     "metadata": {},
     "output_type": "execute_result"
    }
   ],
   "source": [
    "df_nan"
   ]
  },
  {
   "cell_type": "code",
   "execution_count": 90,
   "id": "ce670fc4-ea4a-486f-9b0d-998427defdb4",
   "metadata": {},
   "outputs": [],
   "source": [
    "# New data frame for null value in Bean origin\n",
    "df_nan2 = df_flavors_original[df_flavors_original['Bean_Origin'].isnull()==True]"
   ]
  },
  {
   "cell_type": "code",
   "execution_count": 92,
   "id": "4b6446ac-bf95-4756-85e2-c9db30c8377d",
   "metadata": {},
   "outputs": [
    {
     "data": {
      "text/html": [
       "<div>\n",
       "<style scoped>\n",
       "    .dataframe tbody tr th:only-of-type {\n",
       "        vertical-align: middle;\n",
       "    }\n",
       "\n",
       "    .dataframe tbody tr th {\n",
       "        vertical-align: top;\n",
       "    }\n",
       "\n",
       "    .dataframe thead th {\n",
       "        text-align: right;\n",
       "    }\n",
       "</style>\n",
       "<table border=\"1\" class=\"dataframe\">\n",
       "  <thead>\n",
       "    <tr style=\"text-align: right;\">\n",
       "      <th></th>\n",
       "      <th>Company  (Maker-if known)</th>\n",
       "      <th>Bar_Name</th>\n",
       "      <th>REF</th>\n",
       "      <th>Review_Date</th>\n",
       "      <th>Cocoa_Percent</th>\n",
       "      <th>Location</th>\n",
       "      <th>Rating</th>\n",
       "      <th>Bean_Type</th>\n",
       "      <th>Bean_Origin</th>\n",
       "    </tr>\n",
       "  </thead>\n",
       "  <tbody>\n",
       "    <tr>\n",
       "      <th>1072</th>\n",
       "      <td>Mast Brothers</td>\n",
       "      <td>Madagascar</td>\n",
       "      <td>999</td>\n",
       "      <td>2012</td>\n",
       "      <td>72.0</td>\n",
       "      <td>U.S.A.</td>\n",
       "      <td>2.5</td>\n",
       "      <td>Trinitario</td>\n",
       "      <td>NaN</td>\n",
       "    </tr>\n",
       "  </tbody>\n",
       "</table>\n",
       "</div>"
      ],
      "text/plain": [
       "     Company  (Maker-if known)    Bar_Name  REF  Review_Date  Cocoa_Percent  \\\n",
       "1072             Mast Brothers  Madagascar  999         2012           72.0   \n",
       "\n",
       "     Location  Rating   Bean_Type Bean_Origin  \n",
       "1072   U.S.A.     2.5  Trinitario         NaN  "
      ]
     },
     "execution_count": 92,
     "metadata": {},
     "output_type": "execute_result"
    }
   ],
   "source": [
    "df_nan2"
   ]
  },
  {
   "cell_type": "code",
   "execution_count": 94,
   "id": "6d15f73f-de1f-48c8-9528-82dec6354222",
   "metadata": {},
   "outputs": [],
   "source": [
    "# I will keep the rows intact and just change the nan values to 'Unknow'\n",
    "df_flavors_original.fillna({'Bean_Type': 'Unknown', 'Bean_Origin': 'Unknown'}, inplace=True)\n"
   ]
  },
  {
   "cell_type": "code",
   "execution_count": 96,
   "id": "fbed5f31-8298-4ad5-a925-bb230aa3bc5c",
   "metadata": {},
   "outputs": [],
   "source": [
    "# Check for duplicates\n",
    "df_dups = df_flavors_original[df_flavors_original.duplicated()]"
   ]
  },
  {
   "cell_type": "code",
   "execution_count": 98,
   "id": "60275628-121d-469c-b251-d4e1938dccae",
   "metadata": {},
   "outputs": [
    {
     "data": {
      "text/html": [
       "<div>\n",
       "<style scoped>\n",
       "    .dataframe tbody tr th:only-of-type {\n",
       "        vertical-align: middle;\n",
       "    }\n",
       "\n",
       "    .dataframe tbody tr th {\n",
       "        vertical-align: top;\n",
       "    }\n",
       "\n",
       "    .dataframe thead th {\n",
       "        text-align: right;\n",
       "    }\n",
       "</style>\n",
       "<table border=\"1\" class=\"dataframe\">\n",
       "  <thead>\n",
       "    <tr style=\"text-align: right;\">\n",
       "      <th></th>\n",
       "      <th>Company  (Maker-if known)</th>\n",
       "      <th>Bar_Name</th>\n",
       "      <th>REF</th>\n",
       "      <th>Review_Date</th>\n",
       "      <th>Cocoa_Percent</th>\n",
       "      <th>Location</th>\n",
       "      <th>Rating</th>\n",
       "      <th>Bean_Type</th>\n",
       "      <th>Bean_Origin</th>\n",
       "    </tr>\n",
       "  </thead>\n",
       "  <tbody>\n",
       "  </tbody>\n",
       "</table>\n",
       "</div>"
      ],
      "text/plain": [
       "Empty DataFrame\n",
       "Columns: [Company  (Maker-if known), Bar_Name, REF, Review_Date, Cocoa_Percent, Location, Rating, Bean_Type, Bean_Origin]\n",
       "Index: []"
      ]
     },
     "execution_count": 98,
     "metadata": {},
     "output_type": "execute_result"
    }
   ],
   "source": [
    "df_dups"
   ]
  },
  {
   "cell_type": "code",
   "execution_count": 100,
   "id": "7110ed1b-a850-43c2-aa7e-c59f4973a617",
   "metadata": {},
   "outputs": [
    {
     "data": {
      "text/html": [
       "<div>\n",
       "<style scoped>\n",
       "    .dataframe tbody tr th:only-of-type {\n",
       "        vertical-align: middle;\n",
       "    }\n",
       "\n",
       "    .dataframe tbody tr th {\n",
       "        vertical-align: top;\n",
       "    }\n",
       "\n",
       "    .dataframe thead th {\n",
       "        text-align: right;\n",
       "    }\n",
       "</style>\n",
       "<table border=\"1\" class=\"dataframe\">\n",
       "  <thead>\n",
       "    <tr style=\"text-align: right;\">\n",
       "      <th></th>\n",
       "      <th>REF</th>\n",
       "      <th>Review_Date</th>\n",
       "      <th>Cocoa_Percent</th>\n",
       "      <th>Rating</th>\n",
       "    </tr>\n",
       "  </thead>\n",
       "  <tbody>\n",
       "    <tr>\n",
       "      <th>count</th>\n",
       "      <td>1795.000000</td>\n",
       "      <td>1795.000000</td>\n",
       "      <td>1795.000000</td>\n",
       "      <td>1795.000000</td>\n",
       "    </tr>\n",
       "    <tr>\n",
       "      <th>mean</th>\n",
       "      <td>1035.904735</td>\n",
       "      <td>2012.325348</td>\n",
       "      <td>71.698329</td>\n",
       "      <td>3.185933</td>\n",
       "    </tr>\n",
       "    <tr>\n",
       "      <th>std</th>\n",
       "      <td>552.886365</td>\n",
       "      <td>2.927210</td>\n",
       "      <td>6.323118</td>\n",
       "      <td>0.478062</td>\n",
       "    </tr>\n",
       "    <tr>\n",
       "      <th>min</th>\n",
       "      <td>5.000000</td>\n",
       "      <td>2006.000000</td>\n",
       "      <td>42.000000</td>\n",
       "      <td>1.000000</td>\n",
       "    </tr>\n",
       "    <tr>\n",
       "      <th>25%</th>\n",
       "      <td>576.000000</td>\n",
       "      <td>2010.000000</td>\n",
       "      <td>70.000000</td>\n",
       "      <td>2.875000</td>\n",
       "    </tr>\n",
       "    <tr>\n",
       "      <th>50%</th>\n",
       "      <td>1069.000000</td>\n",
       "      <td>2013.000000</td>\n",
       "      <td>70.000000</td>\n",
       "      <td>3.250000</td>\n",
       "    </tr>\n",
       "    <tr>\n",
       "      <th>75%</th>\n",
       "      <td>1502.000000</td>\n",
       "      <td>2015.000000</td>\n",
       "      <td>75.000000</td>\n",
       "      <td>3.500000</td>\n",
       "    </tr>\n",
       "    <tr>\n",
       "      <th>max</th>\n",
       "      <td>1952.000000</td>\n",
       "      <td>2017.000000</td>\n",
       "      <td>100.000000</td>\n",
       "      <td>5.000000</td>\n",
       "    </tr>\n",
       "  </tbody>\n",
       "</table>\n",
       "</div>"
      ],
      "text/plain": [
       "               REF  Review_Date  Cocoa_Percent       Rating\n",
       "count  1795.000000  1795.000000    1795.000000  1795.000000\n",
       "mean   1035.904735  2012.325348      71.698329     3.185933\n",
       "std     552.886365     2.927210       6.323118     0.478062\n",
       "min       5.000000  2006.000000      42.000000     1.000000\n",
       "25%     576.000000  2010.000000      70.000000     2.875000\n",
       "50%    1069.000000  2013.000000      70.000000     3.250000\n",
       "75%    1502.000000  2015.000000      75.000000     3.500000\n",
       "max    1952.000000  2017.000000     100.000000     5.000000"
      ]
     },
     "execution_count": 100,
     "metadata": {},
     "output_type": "execute_result"
    }
   ],
   "source": [
    "\n",
    "#Basic Descriptive Statistics\n",
    "df_flavors_original.describe()"
   ]
  },
  {
   "cell_type": "code",
   "execution_count": 102,
   "id": "e1f990ff-6805-46d0-962c-4b293b06262a",
   "metadata": {},
   "outputs": [],
   "source": [
    "# create a new DataFrame for your cleaned data\n",
    "df_clean = df_flavors_original.copy()\n"
   ]
  },
  {
   "cell_type": "code",
   "execution_count": 104,
   "id": "50052636-bad4-40f3-93f9-d8194f449e33",
   "metadata": {},
   "outputs": [],
   "source": [
    "\n",
    "\n",
    "df_clean.to_csv(os.path.join(path,'02 Data','Prepared Data','Flavors_Of_Cacao_cleaned.cvs'))"
   ]
  },
  {
   "cell_type": "code",
   "execution_count": null,
   "id": "4621fb99-b662-42ec-a593-49f7ed89b8da",
   "metadata": {},
   "outputs": [],
   "source": []
  }
 ],
 "metadata": {
  "kernelspec": {
   "display_name": "Python [conda env:base] *",
   "language": "python",
   "name": "conda-base-py"
  },
  "language_info": {
   "codemirror_mode": {
    "name": "ipython",
    "version": 3
   },
   "file_extension": ".py",
   "mimetype": "text/x-python",
   "name": "python",
   "nbconvert_exporter": "python",
   "pygments_lexer": "ipython3",
   "version": "3.12.7"
  }
 },
 "nbformat": 4,
 "nbformat_minor": 5
}
