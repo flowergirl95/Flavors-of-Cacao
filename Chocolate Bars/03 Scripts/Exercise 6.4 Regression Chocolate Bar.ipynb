{
 "cells": [
  {
   "cell_type": "markdown",
   "id": "e22df889-16dc-4734-b771-415f6aa85cf5",
   "metadata": {},
   "source": [
    "# 6.4 Machine Learning"
   ]
  },
  {
   "cell_type": "markdown",
   "id": "14fef9f6-a659-4e61-8f4e-61c1f5a72954",
   "metadata": {},
   "source": [
    "1. Install the scikit-learn library."
   ]
  },
  {
   "cell_type": "markdown",
   "id": "1c806d6f-12b1-42bc-8bab-04fabf39acae",
   "metadata": {},
   "source": [
    "2.Import the libraries"
   ]
  },
  {
   "cell_type": "code",
   "execution_count": 5,
   "id": "08caba7e-67c7-408d-b0f8-d12f42658c7d",
   "metadata": {},
   "outputs": [],
   "source": [
    "import pandas as pd\n",
    "import numpy as np\n",
    "import seaborn as sns\n",
    "import matplotlib\n",
    "import matplotlib.pyplot as plt\n",
    "import os\n",
    "import sklearn\n",
    "from sklearn.model_selection import train_test_split \n",
    "from sklearn.linear_model import LinearRegression\n",
    "from sklearn.metrics import mean_squared_error, r2_score"
   ]
  },
  {
   "cell_type": "code",
   "execution_count": 9,
   "id": "86dbfc17-b932-4fdd-8485-cb6e970d99bd",
   "metadata": {},
   "outputs": [],
   "source": [
    "# This option ensures that the graphs you create are displayed within the notebook without the need to \"call\" them specifically.\n",
    "\n",
    "%matplotlib inline"
   ]
  },
  {
   "cell_type": "code",
   "execution_count": 13,
   "id": "990ae04d-d165-482c-878b-3b7f63adaeee",
   "metadata": {},
   "outputs": [],
   "source": [
    "#Create a path\n",
    "path = r'C:\\Users\\beaac\\Desktop\\Chocolate Bars'"
   ]
  },
  {
   "cell_type": "code",
   "execution_count": 17,
   "id": "c8f5f608-4237-4174-9e38-2d8ea7a9e374",
   "metadata": {},
   "outputs": [],
   "source": [
    "df= pd.read_csv(os.path.join(path, '02 Data', 'Prepared Data', 'Flavors_Of_Cacao_cleaned.csv'))"
   ]
  },
  {
   "cell_type": "markdown",
   "id": "0afd1c13-8cf3-41c2-9bd4-6f15dc39a73e",
   "metadata": {},
   "source": [
    "3. Data Cleaning"
   ]
  },
  {
   "cell_type": "code",
   "execution_count": 20,
   "id": "aecec45d-075a-4d7c-be55-06c83d8e7b44",
   "metadata": {},
   "outputs": [
    {
     "data": {
      "text/plain": [
       "Index(['Unnamed: 0', 'Company  (Maker-if known)', 'Bar_Name', 'REF',\n",
       "       'Review_Date', 'Cocoa_Percent', 'Location', 'Rating', 'Bean_Type',\n",
       "       'Bean_Origin'],\n",
       "      dtype='object')"
      ]
     },
     "execution_count": 20,
     "metadata": {},
     "output_type": "execute_result"
    }
   ],
   "source": [
    "df.columns"
   ]
  },
  {
   "cell_type": "code",
   "execution_count": 22,
   "id": "e27900b7-7e66-4217-82d7-4881e52b4a9b",
   "metadata": {},
   "outputs": [],
   "source": [
    "# drop ' Unnamed column'\n",
    "df.drop(columns=['Unnamed: 0'], inplace=True)\n"
   ]
  },
  {
   "cell_type": "code",
   "execution_count": 24,
   "id": "4db9ac8c-f986-4268-aea7-458f8335cfd8",
   "metadata": {},
   "outputs": [],
   "source": [
    "# Rename columns\n",
    "df.rename(columns={\n",
    "    'Company\\u00A0 (Maker-if known)': 'Company',\n",
    "    'Bar_Name': 'BarName',\n",
    "    'REF': 'Ref',\n",
    "    'Review_Date': 'ReviewDate',\n",
    "    'Cocoa_Percent': 'CocoaPercent',\n",
    "    'Location': 'CompanyLocation',\n",
    "    'Rating': 'Rating',\n",
    "    'Bean_Type': 'BeanType',\n",
    "    'Bean_Origin': 'BeanOrigin'\n",
    "}, inplace=True)\n"
   ]
  },
  {
   "cell_type": "code",
   "execution_count": 26,
   "id": "91f46f7f-4caa-4760-9117-20775b16f8cf",
   "metadata": {},
   "outputs": [
    {
     "data": {
      "text/plain": [
       "Index(['Company', 'BarName', 'Ref', 'ReviewDate', 'CocoaPercent',\n",
       "       'CompanyLocation', 'Rating', 'BeanType', 'BeanOrigin'],\n",
       "      dtype='object')"
      ]
     },
     "execution_count": 26,
     "metadata": {},
     "output_type": "execute_result"
    }
   ],
   "source": [
    "df.columns"
   ]
  },
  {
   "cell_type": "code",
   "execution_count": 32,
   "id": "fdee655e-e54f-404d-bb74-134a77d512f7",
   "metadata": {},
   "outputs": [
    {
     "data": {
      "text/plain": [
       "<bound method DataFrame.info of        Company             BarName   Ref  ReviewDate  CocoaPercent  \\\n",
       "0     A. Morin         Agua Grande  1876        2016          63.0   \n",
       "1     A. Morin               Kpime  1676        2015          70.0   \n",
       "2     A. Morin              Atsane  1676        2015          70.0   \n",
       "3     A. Morin               Akata  1680        2015          70.0   \n",
       "4     A. Morin              Quilla  1704        2015          70.0   \n",
       "...        ...                 ...   ...         ...           ...   \n",
       "1790    Zotter                Peru   647        2011          70.0   \n",
       "1791    Zotter               Congo   749        2011          65.0   \n",
       "1792    Zotter        Kerala State   749        2011          65.0   \n",
       "1793    Zotter        Kerala State   781        2011          62.0   \n",
       "1794    Zotter  Brazil, Mitzi Blue   486        2010          65.0   \n",
       "\n",
       "     CompanyLocation  Rating   BeanType BeanOrigin  \n",
       "0             France    3.75    Unknown   Sao Tome  \n",
       "1             France    2.75    Unknown       Togo  \n",
       "2             France    3.00    Unknown       Togo  \n",
       "3             France    3.50    Unknown       Togo  \n",
       "4             France    3.50    Unknown       Peru  \n",
       "...              ...     ...        ...        ...  \n",
       "1790         Austria    3.75    Unknown       Peru  \n",
       "1791         Austria    3.00  Forastero      Congo  \n",
       "1792         Austria    3.50  Forastero      India  \n",
       "1793         Austria    3.25    Unknown      India  \n",
       "1794         Austria    3.00    Unknown     Brazil  \n",
       "\n",
       "[1795 rows x 9 columns]>"
      ]
     },
     "execution_count": 32,
     "metadata": {},
     "output_type": "execute_result"
    }
   ],
   "source": [
    "df.info"
   ]
  },
  {
   "cell_type": "code",
   "execution_count": 36,
   "id": "7b5f82ce-c402-4244-8568-4009e4a68c01",
   "metadata": {},
   "outputs": [
    {
     "data": {
      "text/html": [
       "<div>\n",
       "<style scoped>\n",
       "    .dataframe tbody tr th:only-of-type {\n",
       "        vertical-align: middle;\n",
       "    }\n",
       "\n",
       "    .dataframe tbody tr th {\n",
       "        vertical-align: top;\n",
       "    }\n",
       "\n",
       "    .dataframe thead th {\n",
       "        text-align: right;\n",
       "    }\n",
       "</style>\n",
       "<table border=\"1\" class=\"dataframe\">\n",
       "  <thead>\n",
       "    <tr style=\"text-align: right;\">\n",
       "      <th></th>\n",
       "      <th>Company</th>\n",
       "      <th>BarName</th>\n",
       "      <th>Ref</th>\n",
       "      <th>ReviewDate</th>\n",
       "      <th>CocoaPercent</th>\n",
       "      <th>CompanyLocation</th>\n",
       "      <th>Rating</th>\n",
       "      <th>BeanType</th>\n",
       "      <th>BeanOrigin</th>\n",
       "    </tr>\n",
       "  </thead>\n",
       "  <tbody>\n",
       "    <tr>\n",
       "      <th>0</th>\n",
       "      <td>A. Morin</td>\n",
       "      <td>Agua Grande</td>\n",
       "      <td>1876</td>\n",
       "      <td>2016</td>\n",
       "      <td>63.0</td>\n",
       "      <td>France</td>\n",
       "      <td>3.75</td>\n",
       "      <td>Unknown</td>\n",
       "      <td>Sao Tome</td>\n",
       "    </tr>\n",
       "    <tr>\n",
       "      <th>1</th>\n",
       "      <td>A. Morin</td>\n",
       "      <td>Kpime</td>\n",
       "      <td>1676</td>\n",
       "      <td>2015</td>\n",
       "      <td>70.0</td>\n",
       "      <td>France</td>\n",
       "      <td>2.75</td>\n",
       "      <td>Unknown</td>\n",
       "      <td>Togo</td>\n",
       "    </tr>\n",
       "    <tr>\n",
       "      <th>2</th>\n",
       "      <td>A. Morin</td>\n",
       "      <td>Atsane</td>\n",
       "      <td>1676</td>\n",
       "      <td>2015</td>\n",
       "      <td>70.0</td>\n",
       "      <td>France</td>\n",
       "      <td>3.00</td>\n",
       "      <td>Unknown</td>\n",
       "      <td>Togo</td>\n",
       "    </tr>\n",
       "    <tr>\n",
       "      <th>3</th>\n",
       "      <td>A. Morin</td>\n",
       "      <td>Akata</td>\n",
       "      <td>1680</td>\n",
       "      <td>2015</td>\n",
       "      <td>70.0</td>\n",
       "      <td>France</td>\n",
       "      <td>3.50</td>\n",
       "      <td>Unknown</td>\n",
       "      <td>Togo</td>\n",
       "    </tr>\n",
       "    <tr>\n",
       "      <th>4</th>\n",
       "      <td>A. Morin</td>\n",
       "      <td>Quilla</td>\n",
       "      <td>1704</td>\n",
       "      <td>2015</td>\n",
       "      <td>70.0</td>\n",
       "      <td>France</td>\n",
       "      <td>3.50</td>\n",
       "      <td>Unknown</td>\n",
       "      <td>Peru</td>\n",
       "    </tr>\n",
       "  </tbody>\n",
       "</table>\n",
       "</div>"
      ],
      "text/plain": [
       "    Company      BarName   Ref  ReviewDate  CocoaPercent CompanyLocation  \\\n",
       "0  A. Morin  Agua Grande  1876        2016          63.0          France   \n",
       "1  A. Morin        Kpime  1676        2015          70.0          France   \n",
       "2  A. Morin       Atsane  1676        2015          70.0          France   \n",
       "3  A. Morin        Akata  1680        2015          70.0          France   \n",
       "4  A. Morin       Quilla  1704        2015          70.0          France   \n",
       "\n",
       "   Rating BeanType BeanOrigin  \n",
       "0    3.75  Unknown   Sao Tome  \n",
       "1    2.75  Unknown       Togo  \n",
       "2    3.00  Unknown       Togo  \n",
       "3    3.50  Unknown       Togo  \n",
       "4    3.50  Unknown       Peru  "
      ]
     },
     "execution_count": 36,
     "metadata": {},
     "output_type": "execute_result"
    }
   ],
   "source": [
    "df.head()"
   ]
  },
  {
   "cell_type": "code",
   "execution_count": 50,
   "id": "7c0a4c63-b694-4a5c-8dc2-b96578c7eae5",
   "metadata": {},
   "outputs": [
    {
     "data": {
      "text/plain": [
       "Company            0\n",
       "BarName            0\n",
       "Ref                0\n",
       "ReviewDate         0\n",
       "CocoaPercent       0\n",
       "CompanyLocation    0\n",
       "Rating             0\n",
       "BeanType           0\n",
       "BeanOrigin         0\n",
       "dtype: int64"
      ]
     },
     "execution_count": 50,
     "metadata": {},
     "output_type": "execute_result"
    }
   ],
   "source": [
    "#finding missing values\n",
    "df.isnull().sum()\n"
   ]
  },
  {
   "cell_type": "code",
   "execution_count": 52,
   "id": "295ce033-1dc2-4202-bf47-96ca3e7d4bfe",
   "metadata": {},
   "outputs": [],
   "source": [
    "# filling missing values with \" Unknow\"\n",
    "df['BeanType'] = df['BeanType'].fillna('Unknown')\n",
    "df['BeanOrigin'] = df['BeanOrigin'].fillna('Unknown')\n"
   ]
  },
  {
   "cell_type": "code",
   "execution_count": 46,
   "id": "da7ebb7d-05b9-43a7-b852-1cbec3aedb31",
   "metadata": {},
   "outputs": [
    {
     "data": {
      "text/plain": [
       "Company            0\n",
       "BarName            0\n",
       "Ref                0\n",
       "ReviewDate         0\n",
       "CocoaPercent       0\n",
       "CompanyLocation    0\n",
       "Rating             0\n",
       "BeanType           0\n",
       "BeanOrigin         0\n",
       "dtype: int64"
      ]
     },
     "execution_count": 46,
     "metadata": {},
     "output_type": "execute_result"
    }
   ],
   "source": [
    "df.isnull().sum()"
   ]
  },
  {
   "cell_type": "code",
   "execution_count": 54,
   "id": "7abaa93c-c145-469e-9916-91104af7a1c9",
   "metadata": {},
   "outputs": [
    {
     "data": {
      "text/plain": [
       "0"
      ]
     },
     "execution_count": 54,
     "metadata": {},
     "output_type": "execute_result"
    }
   ],
   "source": [
    "# checking for duplicates\n",
    "df.duplicated().sum()\n"
   ]
  },
  {
   "cell_type": "markdown",
   "id": "7e395a36-104b-410b-840e-dc7d83fd3d69",
   "metadata": {},
   "source": [
    "Data has being cleanned"
   ]
  },
  {
   "cell_type": "markdown",
   "id": "84b5b6cb-c3e6-4e35-b072-2a085afdeda8",
   "metadata": {},
   "source": [
    "4.Explore data visualizations\n"
   ]
  },
  {
   "cell_type": "code",
   "execution_count": 59,
   "id": "7d2b6fc9-dd9a-4874-bb47-31bc032e8366",
   "metadata": {},
   "outputs": [
    {
     "data": {
      "image/png": "[encoded data removed]",
      "text/plain": [
       "<Figure size 800x500 with 1 Axes>"
      ]
     },
     "metadata": {},
     "output_type": "display_data"
    }
   ],
   "source": [
    "# Im testing the variables CocoaPercent and Rating\n",
    "\n",
    "plt.figure(figsize=(8, 5))\n",
    "sns.scatterplot(data=df, x='CocoaPercent', y='Rating')\n",
    "plt.title('Cocoa % vs. Rating')\n",
    "plt.xlabel('Cocoa Percent')\n",
    "plt.ylabel('Rating')\n",
    "plt.show()\n"
   ]
  },
  {
   "cell_type": "markdown",
   "id": "c6614cf5-35c7-42a8-a5fc-2121bb690253",
   "metadata": {},
   "source": [
    "Hypothesis:\n",
    "- If the ratings are lower, then the cocoa percent in the chocolate is high"
   ]
  },
  {
   "cell_type": "markdown",
   "id": "125fa249-f468-42d1-880c-cf7e342b23ac",
   "metadata": {},
   "source": [
    "\n",
    "Note 1: CocoaPercent vs. Rating isn’t revealing much, that suggests the relationship might be weak or nonlinear.\n"
   ]
  },
  {
   "cell_type": "markdown",
   "id": "35d59a01-ca5f-4772-8df0-5c170bd938c5",
   "metadata": {},
   "source": [
    "TUTOR ADVIDE: Yes you have a few options. You can supplement your dataset with an external dataset or you can choose a different but similar dataset for this step and not include the one you have right now so you can complete the task. I will leave the choice up to you!"
   ]
  },
  {
   "cell_type": "markdown",
   "id": "0a0b7067-78aa-4b85-b1b8-a3c7af8b7d81",
   "metadata": {},
   "source": [
    "OPTION 2: Choose an external dataset "
   ]
  },
  {
   "cell_type": "code",
   "execution_count": null,
   "id": "57c9a9c8-db0b-4194-b7e5-58e4552e15b1",
   "metadata": {},
   "outputs": [],
   "source": []
  }
 ],
 "metadata": {
  "kernelspec": {
   "display_name": "Python [conda env:base] *",
   "language": "python",
   "name": "conda-base-py"
  },
  "language_info": {
   "codemirror_mode": {
    "name": "ipython",
    "version": 3
   },
   "file_extension": ".py",
   "mimetype": "text/x-python",
   "name": "python",
   "nbconvert_exporter": "python",
   "pygments_lexer": "ipython3",
   "version": "3.12.7"
  }
 },
 "nbformat": 4,
 "nbformat_minor": 5
}
