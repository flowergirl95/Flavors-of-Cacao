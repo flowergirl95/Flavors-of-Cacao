{
 "cells": [
  {
   "cell_type": "markdown",
   "id": "88e9362e-7139-43f0-b92f-ccada823d811",
   "metadata": {},
   "source": [
    "# Import libraries and data"
   ]
  },
  {
   "cell_type": "code",
   "execution_count": 3,
   "id": "875f70aa-15e9-4372-87d4-d3c268ce3c65",
   "metadata": {},
   "outputs": [],
   "source": [
    "# Import libraries\n",
    "\n",
    "import pandas as pd\n",
    "import numpy as np\n",
    "import os\n",
    "import matplotlib\n",
    "import matplotlib.pyplot as plt\n",
    "import seaborn as sns\n",
    "import sklearn\n",
    "from sklearn.cluster import KMeans\n",
    "from sklearn.preprocessing import StandardScaler\n",
    "import pylab as pl"
   ]
  },
  {
   "cell_type": "code",
   "execution_count": 9,
   "id": "23880d59-3f70-4b19-9c32-43707ce6bb3c",
   "metadata": {},
   "outputs": [],
   "source": [
    "# Import Data \n",
    "path = r'C:\\Users\\beaac\\Desktop\\Chocolate Bars'\n",
    "\n",
    "df_bars = pd.read_csv(os.path.join(path, '02 Data', 'Prepared Data', 'Flavors_Of_Cacao_cleaned.csv'))"
   ]
  },
  {
   "cell_type": "code",
   "execution_count": 11,
   "id": "3969ce7b-1e47-4284-b8f0-242d4845058f",
   "metadata": {},
   "outputs": [
    {
     "data": {
      "text/html": [
       "<div>\n",
       "<style scoped>\n",
       "    .dataframe tbody tr th:only-of-type {\n",
       "        vertical-align: middle;\n",
       "    }\n",
       "\n",
       "    .dataframe tbody tr th {\n",
       "        vertical-align: top;\n",
       "    }\n",
       "\n",
       "    .dataframe thead th {\n",
       "        text-align: right;\n",
       "    }\n",
       "</style>\n",
       "<table border=\"1\" class=\"dataframe\">\n",
       "  <thead>\n",
       "    <tr style=\"text-align: right;\">\n",
       "      <th></th>\n",
       "      <th>Unnamed: 0</th>\n",
       "      <th>Company  (Maker-if known)</th>\n",
       "      <th>Bar_Name</th>\n",
       "      <th>REF</th>\n",
       "      <th>Review_Date</th>\n",
       "      <th>Cocoa_Percent</th>\n",
       "      <th>Location</th>\n",
       "      <th>Rating</th>\n",
       "      <th>Bean_Type</th>\n",
       "      <th>Bean_Origin</th>\n",
       "    </tr>\n",
       "  </thead>\n",
       "  <tbody>\n",
       "    <tr>\n",
       "      <th>0</th>\n",
       "      <td>0</td>\n",
       "      <td>A. Morin</td>\n",
       "      <td>Agua Grande</td>\n",
       "      <td>1876</td>\n",
       "      <td>2016</td>\n",
       "      <td>63.0</td>\n",
       "      <td>France</td>\n",
       "      <td>3.75</td>\n",
       "      <td>Unknown</td>\n",
       "      <td>Sao Tome</td>\n",
       "    </tr>\n",
       "    <tr>\n",
       "      <th>1</th>\n",
       "      <td>1</td>\n",
       "      <td>A. Morin</td>\n",
       "      <td>Kpime</td>\n",
       "      <td>1676</td>\n",
       "      <td>2015</td>\n",
       "      <td>70.0</td>\n",
       "      <td>France</td>\n",
       "      <td>2.75</td>\n",
       "      <td>Unknown</td>\n",
       "      <td>Togo</td>\n",
       "    </tr>\n",
       "    <tr>\n",
       "      <th>2</th>\n",
       "      <td>2</td>\n",
       "      <td>A. Morin</td>\n",
       "      <td>Atsane</td>\n",
       "      <td>1676</td>\n",
       "      <td>2015</td>\n",
       "      <td>70.0</td>\n",
       "      <td>France</td>\n",
       "      <td>3.00</td>\n",
       "      <td>Unknown</td>\n",
       "      <td>Togo</td>\n",
       "    </tr>\n",
       "    <tr>\n",
       "      <th>3</th>\n",
       "      <td>3</td>\n",
       "      <td>A. Morin</td>\n",
       "      <td>Akata</td>\n",
       "      <td>1680</td>\n",
       "      <td>2015</td>\n",
       "      <td>70.0</td>\n",
       "      <td>France</td>\n",
       "      <td>3.50</td>\n",
       "      <td>Unknown</td>\n",
       "      <td>Togo</td>\n",
       "    </tr>\n",
       "    <tr>\n",
       "      <th>4</th>\n",
       "      <td>4</td>\n",
       "      <td>A. Morin</td>\n",
       "      <td>Quilla</td>\n",
       "      <td>1704</td>\n",
       "      <td>2015</td>\n",
       "      <td>70.0</td>\n",
       "      <td>France</td>\n",
       "      <td>3.50</td>\n",
       "      <td>Unknown</td>\n",
       "      <td>Peru</td>\n",
       "    </tr>\n",
       "  </tbody>\n",
       "</table>\n",
       "</div>"
      ],
      "text/plain": [
       "   Unnamed: 0 Company  (Maker-if known)     Bar_Name   REF  Review_Date  \\\n",
       "0           0                  A. Morin  Agua Grande  1876         2016   \n",
       "1           1                  A. Morin        Kpime  1676         2015   \n",
       "2           2                  A. Morin       Atsane  1676         2015   \n",
       "3           3                  A. Morin        Akata  1680         2015   \n",
       "4           4                  A. Morin       Quilla  1704         2015   \n",
       "\n",
       "   Cocoa_Percent Location  Rating Bean_Type Bean_Origin  \n",
       "0           63.0   France    3.75   Unknown    Sao Tome  \n",
       "1           70.0   France    2.75   Unknown        Togo  \n",
       "2           70.0   France    3.00   Unknown        Togo  \n",
       "3           70.0   France    3.50   Unknown        Togo  \n",
       "4           70.0   France    3.50   Unknown        Peru  "
      ]
     },
     "execution_count": 11,
     "metadata": {},
     "output_type": "execute_result"
    }
   ],
   "source": [
    "df_bars.head()"
   ]
  },
  {
   "cell_type": "code",
   "execution_count": 13,
   "id": "c3b4310e-0080-40c3-921f-6c5321d56e7a",
   "metadata": {},
   "outputs": [
    {
     "data": {
      "text/plain": [
       "(1795, 10)"
      ]
     },
     "execution_count": 13,
     "metadata": {},
     "output_type": "execute_result"
    }
   ],
   "source": [
    "df_bars.shape"
   ]
  },
  {
   "cell_type": "markdown",
   "id": "e6adde0f-36b5-42a1-8e7c-1bf9fb50bb53",
   "metadata": {},
   "source": [
    "# Data Preprocessing"
   ]
  },
  {
   "cell_type": "code",
   "execution_count": 16,
   "id": "b4ab5597-bb3d-4510-b1ee-d47924874659",
   "metadata": {},
   "outputs": [
    {
     "data": {
      "text/plain": [
       "Index(['Unnamed: 0', 'Company  (Maker-if known)', 'Bar_Name', 'REF',\n",
       "       'Review_Date', 'Cocoa_Percent', 'Location', 'Rating', 'Bean_Type',\n",
       "       'Bean_Origin'],\n",
       "      dtype='object')"
      ]
     },
     "execution_count": 16,
     "metadata": {},
     "output_type": "execute_result"
    }
   ],
   "source": [
    "df_bars.columns"
   ]
  },
  {
   "cell_type": "code",
   "execution_count": 20,
   "id": "5122b9ed-669d-4427-ad96-14525d262fa5",
   "metadata": {},
   "outputs": [],
   "source": [
    "df_bars = df_bars.drop(columns=['Unnamed: 0', 'REF', 'Bar_Name'])\n"
   ]
  },
  {
   "cell_type": "code",
   "execution_count": 24,
   "id": "8f2025d7-08c9-43b0-8ce3-1dee9f060e43",
   "metadata": {},
   "outputs": [],
   "source": [
    "df_bars = df_bars.rename(columns={\n",
    "    'Company  (Maker-if known)': 'Company',\n",
    "    'Review_Date': 'ReviewDate',\n",
    "    'Cocoa_Percent': 'CocoaPercent',\n",
    "    'Bean_Origin': 'BroadOrigin'\n",
    "})\n"
   ]
  },
  {
   "cell_type": "code",
   "execution_count": 26,
   "id": "bf695c1b-3627-4bb1-a4c7-edc1dc1ea9fa",
   "metadata": {},
   "outputs": [
    {
     "data": {
      "text/plain": [
       "Company  (Maker-if known)     object\n",
       "ReviewDate                     int64\n",
       "CocoaPercent                 float64\n",
       "Location                      object\n",
       "Rating                       float64\n",
       "Bean_Type                     object\n",
       "BroadOrigin                   object\n",
       "dtype: object"
      ]
     },
     "execution_count": 26,
     "metadata": {},
     "output_type": "execute_result"
    }
   ],
   "source": [
    "df_bars.dtypes"
   ]
  },
  {
   "cell_type": "code",
   "execution_count": 28,
   "id": "b73fb532-1386-486a-9c1c-fb4f6d4548ea",
   "metadata": {},
   "outputs": [
    {
     "data": {
      "text/plain": [
       "Company  (Maker-if known)    0\n",
       "ReviewDate                   0\n",
       "CocoaPercent                 0\n",
       "Location                     0\n",
       "Rating                       0\n",
       "Bean_Type                    1\n",
       "BroadOrigin                  1\n",
       "dtype: int64"
      ]
     },
     "execution_count": 28,
     "metadata": {},
     "output_type": "execute_result"
    }
   ],
   "source": [
    "# Count missing entries in each column\n",
    "df_bars.isnull().sum()\n"
   ]
  },
  {
   "cell_type": "code",
   "execution_count": 46,
   "id": "5fa5fe3f-715e-462f-8f56-e3655222d6bb",
   "metadata": {},
   "outputs": [],
   "source": [
    "df_bars['Bean_Type'] = df_bars['Bean_Type'].fillna('Unknown')\n",
    "df_bars['BroadOrigin'] = df_bars['BroadOrigin'].fillna('Unknown')\n"
   ]
  },
  {
   "cell_type": "code",
   "execution_count": 52,
   "id": "c0694b75-6a29-49f8-a8a2-cde74f29bcc1",
   "metadata": {},
   "outputs": [
    {
     "data": {
      "text/plain": [
       "(1795, 7)"
      ]
     },
     "execution_count": 52,
     "metadata": {},
     "output_type": "execute_result"
    }
   ],
   "source": [
    "df_bars.shape"
   ]
  },
  {
   "cell_type": "markdown",
   "id": "ff4fcafa-55a4-431e-9f80-57c77efa2f24",
   "metadata": {},
   "source": [
    "# Standardization"
   ]
  },
  {
   "cell_type": "code",
   "execution_count": 58,
   "id": "907bceb7-6433-4148-9195-8aba6bbd5ee4",
   "metadata": {},
   "outputs": [],
   "source": [
    "# Choose the columns you want to scale\n",
    "numeric_cols = ['CocoaPercent', 'Rating']\n",
    "features = df_bars[numeric_cols]"
   ]
  },
  {
   "cell_type": "code",
   "execution_count": 60,
   "id": "2bbb27a6-b0dd-4b32-af98-4bfb7f3f73d2",
   "metadata": {},
   "outputs": [],
   "source": [
    "# Create the scaler and fit-transform the data\n",
    "scaler = StandardScaler()\n",
    "scaled_values = scaler.fit_transform(features)"
   ]
  },
  {
   "cell_type": "code",
   "execution_count": 62,
   "id": "c65ba88d-a24a-4680-900f-e2883deeca83",
   "metadata": {},
   "outputs": [
    {
     "data": {
      "text/plain": [
       "array([[-1.37602243,  1.18023096],\n",
       "       [-0.26866522, -0.91212912],\n",
       "       [-0.26866522, -0.3890391 ],\n",
       "       ...,\n",
       "       [-1.05963465,  0.65714094],\n",
       "       [-1.53421631,  0.13405092],\n",
       "       [-1.05963465, -0.3890391 ]])"
      ]
     },
     "execution_count": 62,
     "metadata": {},
     "output_type": "execute_result"
    }
   ],
   "source": [
    "scaled_values"
   ]
  },
  {
   "cell_type": "markdown",
   "id": "2606440e-9a64-4a2d-8f84-6f4063ca8ff4",
   "metadata": {},
   "source": [
    "# Elbow Technique"
   ]
  },
  {
   "cell_type": "code",
   "execution_count": 75,
   "id": "25ee1a02-5b9b-4635-9f6f-6e07cea8dc3f",
   "metadata": {},
   "outputs": [
    {
     "name": "stderr",
     "output_type": "stream",
     "text": [
      "C:\\Users\\beaac\\anaconda3\\Lib\\site-packages\\sklearn\\cluster\\_kmeans.py:1429: UserWarning: KMeans is known to have a memory leak on Windows with MKL, when there are less chunks than available threads. You can avoid it by setting the environment variable OMP_NUM_THREADS=8.\n",
      "  warnings.warn(\n",
      "C:\\Users\\beaac\\anaconda3\\Lib\\site-packages\\sklearn\\cluster\\_kmeans.py:1429: UserWarning: KMeans is known to have a memory leak on Windows with MKL, when there are less chunks than available threads. You can avoid it by setting the environment variable OMP_NUM_THREADS=8.\n",
      "  warnings.warn(\n",
      "C:\\Users\\beaac\\anaconda3\\Lib\\site-packages\\sklearn\\cluster\\_kmeans.py:1429: UserWarning: KMeans is known to have a memory leak on Windows with MKL, when there are less chunks than available threads. You can avoid it by setting the environment variable OMP_NUM_THREADS=8.\n",
      "  warnings.warn(\n",
      "C:\\Users\\beaac\\anaconda3\\Lib\\site-packages\\sklearn\\cluster\\_kmeans.py:1429: UserWarning: KMeans is known to have a memory leak on Windows with MKL, when there are less chunks than available threads. You can avoid it by setting the environment variable OMP_NUM_THREADS=8.\n",
      "  warnings.warn(\n",
      "C:\\Users\\beaac\\anaconda3\\Lib\\site-packages\\sklearn\\cluster\\_kmeans.py:1429: UserWarning: KMeans is known to have a memory leak on Windows with MKL, when there are less chunks than available threads. You can avoid it by setting the environment variable OMP_NUM_THREADS=8.\n",
      "  warnings.warn(\n",
      "C:\\Users\\beaac\\anaconda3\\Lib\\site-packages\\sklearn\\cluster\\_kmeans.py:1429: UserWarning: KMeans is known to have a memory leak on Windows with MKL, when there are less chunks than available threads. You can avoid it by setting the environment variable OMP_NUM_THREADS=8.\n",
      "  warnings.warn(\n",
      "C:\\Users\\beaac\\anaconda3\\Lib\\site-packages\\sklearn\\cluster\\_kmeans.py:1429: UserWarning: KMeans is known to have a memory leak on Windows with MKL, when there are less chunks than available threads. You can avoid it by setting the environment variable OMP_NUM_THREADS=8.\n",
      "  warnings.warn(\n",
      "C:\\Users\\beaac\\anaconda3\\Lib\\site-packages\\sklearn\\cluster\\_kmeans.py:1429: UserWarning: KMeans is known to have a memory leak on Windows with MKL, when there are less chunks than available threads. You can avoid it by setting the environment variable OMP_NUM_THREADS=8.\n",
      "  warnings.warn(\n",
      "C:\\Users\\beaac\\anaconda3\\Lib\\site-packages\\sklearn\\cluster\\_kmeans.py:1429: UserWarning: KMeans is known to have a memory leak on Windows with MKL, when there are less chunks than available threads. You can avoid it by setting the environment variable OMP_NUM_THREADS=8.\n",
      "  warnings.warn(\n"
     ]
    }
   ],
   "source": [
    " #Define the range of cluster counts to test\n",
    "num_cl = range(1, 10)\n",
    "inertia = []\n",
    "\n",
    "# Fit KMeans for each cluster count and store the inertia\n",
    "for i in num_cl:\n",
    "    kmeans = KMeans(n_clusters=i)\n",
    "    kmeans.fit( scaled_values)\n",
    "    inertia.append(kmeans.inertia_)"
   ]
  },
  {
   "cell_type": "code",
   "execution_count": 77,
   "id": "32e66ee5-5b72-4bd3-97a3-3e9dafcadb52",
   "metadata": {
    "scrolled": true
   },
   "outputs": [
    {
     "data": {
      "image/png": "[encoded data removed]",
      "text/plain": [
       "<Figure size 800x500 with 1 Axes>"
      ]
     },
     "metadata": {},
     "output_type": "display_data"
    }
   ],
   "source": [
    "plt.figure(figsize=(8, 5))\n",
    "plt.plot(num_cl, inertia)\n",
    "plt.xlabel('Number of Clusters')\n",
    "plt.ylabel('WCSS (Inertia)')\n",
    "plt.title('Elbow Curve for Chocolate Clustering')\n",
    "plt.show()"
   ]
  },
  {
   "cell_type": "markdown",
   "id": "498e501f-1a95-4c66-851b-c91b335af72c",
   "metadata": {},
   "source": [
    "The biggest drop in WCSS occurs between 1 and 3 clusters, and after that the curve flattens out. That elbow around k = 3 it’s likely the best choice for clustering."
   ]
  },
  {
   "cell_type": "markdown",
   "id": "d7a90faf-efef-4696-a857-6d80a53c493d",
   "metadata": {},
   "source": [
    "Choosing k = 3 balances simplicity, avoiding over segmentation while capturing the key structure of the data."
   ]
  },
  {
   "cell_type": "markdown",
   "id": "811c222e-17b5-478b-a5b1-b0f832bad16b",
   "metadata": {},
   "source": [
    "# k-means algorithm"
   ]
  },
  {
   "cell_type": "code",
   "execution_count": 105,
   "id": "65ae5c6d-32a6-4711-b8a6-a9d3b67fe563",
   "metadata": {},
   "outputs": [],
   "source": [
    "# Create the k-means object.\n",
    "\n",
    "kmeans= KMeans(n_clusters = 3)"
   ]
  },
  {
   "cell_type": "code",
   "execution_count": 107,
   "id": "e963ccbe-be69-4fd2-a77f-bfa18fadbab8",
   "metadata": {},
   "outputs": [
    {
     "name": "stderr",
     "output_type": "stream",
     "text": [
      "C:\\Users\\beaac\\anaconda3\\Lib\\site-packages\\sklearn\\cluster\\_kmeans.py:1429: UserWarning: KMeans is known to have a memory leak on Windows with MKL, when there are less chunks than available threads. You can avoid it by setting the environment variable OMP_NUM_THREADS=8.\n",
      "  warnings.warn(\n"
     ]
    }
   ],
   "source": [
    "# Fit the k-means objet to the dtaframe\n",
    "\n",
    "labels = kmeans.fit_predict(scaled_values)\n"
   ]
  },
  {
   "cell_type": "code",
   "execution_count": 109,
   "id": "e1e52e48-b017-4da0-993a-1cd80bea368f",
   "metadata": {},
   "outputs": [],
   "source": [
    "df_bars['Cluster'] = labels\n"
   ]
  },
  {
   "cell_type": "code",
   "execution_count": 111,
   "id": "3e6d90c7-bbf6-44cb-8bd9-23c608293e8d",
   "metadata": {},
   "outputs": [
    {
     "data": {
      "text/html": [
       "<div>\n",
       "<style scoped>\n",
       "    .dataframe tbody tr th:only-of-type {\n",
       "        vertical-align: middle;\n",
       "    }\n",
       "\n",
       "    .dataframe tbody tr th {\n",
       "        vertical-align: top;\n",
       "    }\n",
       "\n",
       "    .dataframe thead th {\n",
       "        text-align: right;\n",
       "    }\n",
       "</style>\n",
       "<table border=\"1\" class=\"dataframe\">\n",
       "  <thead>\n",
       "    <tr style=\"text-align: right;\">\n",
       "      <th></th>\n",
       "      <th>Company  (Maker-if known)</th>\n",
       "      <th>ReviewDate</th>\n",
       "      <th>CocoaPercent</th>\n",
       "      <th>Location</th>\n",
       "      <th>Rating</th>\n",
       "      <th>Bean_Type</th>\n",
       "      <th>BroadOrigin</th>\n",
       "      <th>clusters</th>\n",
       "      <th>Cluster</th>\n",
       "    </tr>\n",
       "  </thead>\n",
       "  <tbody>\n",
       "    <tr>\n",
       "      <th>0</th>\n",
       "      <td>A. Morin</td>\n",
       "      <td>2016</td>\n",
       "      <td>63.0</td>\n",
       "      <td>France</td>\n",
       "      <td>3.75</td>\n",
       "      <td>Unknown</td>\n",
       "      <td>Sao Tome</td>\n",
       "      <td>KMeans(n_clusters=3)</td>\n",
       "      <td>0</td>\n",
       "    </tr>\n",
       "    <tr>\n",
       "      <th>1</th>\n",
       "      <td>A. Morin</td>\n",
       "      <td>2015</td>\n",
       "      <td>70.0</td>\n",
       "      <td>France</td>\n",
       "      <td>2.75</td>\n",
       "      <td>Unknown</td>\n",
       "      <td>Togo</td>\n",
       "      <td>KMeans(n_clusters=3)</td>\n",
       "      <td>1</td>\n",
       "    </tr>\n",
       "    <tr>\n",
       "      <th>2</th>\n",
       "      <td>A. Morin</td>\n",
       "      <td>2015</td>\n",
       "      <td>70.0</td>\n",
       "      <td>France</td>\n",
       "      <td>3.00</td>\n",
       "      <td>Unknown</td>\n",
       "      <td>Togo</td>\n",
       "      <td>KMeans(n_clusters=3)</td>\n",
       "      <td>1</td>\n",
       "    </tr>\n",
       "    <tr>\n",
       "      <th>3</th>\n",
       "      <td>A. Morin</td>\n",
       "      <td>2015</td>\n",
       "      <td>70.0</td>\n",
       "      <td>France</td>\n",
       "      <td>3.50</td>\n",
       "      <td>Unknown</td>\n",
       "      <td>Togo</td>\n",
       "      <td>KMeans(n_clusters=3)</td>\n",
       "      <td>0</td>\n",
       "    </tr>\n",
       "    <tr>\n",
       "      <th>4</th>\n",
       "      <td>A. Morin</td>\n",
       "      <td>2015</td>\n",
       "      <td>70.0</td>\n",
       "      <td>France</td>\n",
       "      <td>3.50</td>\n",
       "      <td>Unknown</td>\n",
       "      <td>Peru</td>\n",
       "      <td>KMeans(n_clusters=3)</td>\n",
       "      <td>0</td>\n",
       "    </tr>\n",
       "  </tbody>\n",
       "</table>\n",
       "</div>"
      ],
      "text/plain": [
       "  Company  (Maker-if known)  ReviewDate  CocoaPercent Location  Rating  \\\n",
       "0                  A. Morin        2016          63.0   France    3.75   \n",
       "1                  A. Morin        2015          70.0   France    2.75   \n",
       "2                  A. Morin        2015          70.0   France    3.00   \n",
       "3                  A. Morin        2015          70.0   France    3.50   \n",
       "4                  A. Morin        2015          70.0   France    3.50   \n",
       "\n",
       "  Bean_Type BroadOrigin              clusters  Cluster  \n",
       "0   Unknown    Sao Tome  KMeans(n_clusters=3)        0  \n",
       "1   Unknown        Togo  KMeans(n_clusters=3)        1  \n",
       "2   Unknown        Togo  KMeans(n_clusters=3)        1  \n",
       "3   Unknown        Togo  KMeans(n_clusters=3)        0  \n",
       "4   Unknown        Peru  KMeans(n_clusters=3)        0  "
      ]
     },
     "execution_count": 111,
     "metadata": {},
     "output_type": "execute_result"
    }
   ],
   "source": [
    "df_bars.head()"
   ]
  },
  {
   "cell_type": "code",
   "execution_count": 115,
   "id": "ab67579c-ceca-4176-947b-6a0c9f4d8c8e",
   "metadata": {},
   "outputs": [],
   "source": [
    "df_bars.drop(columns=['clusters'], inplace=True)\n"
   ]
  },
  {
   "cell_type": "code",
   "execution_count": 117,
   "id": "8dc9fd82-ea83-439d-8fed-2d3ff60f0bb4",
   "metadata": {},
   "outputs": [
    {
     "data": {
      "text/plain": [
       "Cluster\n",
       "0    954\n",
       "1    668\n",
       "2    173\n",
       "Name: count, dtype: int64"
      ]
     },
     "execution_count": 117,
     "metadata": {},
     "output_type": "execute_result"
    }
   ],
   "source": [
    "df_bars['Cluster'].value_counts()"
   ]
  },
  {
   "cell_type": "markdown",
   "id": "2b472a6c-89be-44c3-96cf-e6851d84d29b",
   "metadata": {},
   "source": [
    "# Vsisualizations"
   ]
  },
  {
   "cell_type": "code",
   "execution_count": 122,
   "id": "696afe0f-b792-4dcc-ab67-e8d002833502",
   "metadata": {},
   "outputs": [
    {
     "data": {
      "image/png": "[encoded data removed]",
      "text/plain": [
       "<Figure size 1200x800 with 1 Axes>"
      ]
     },
     "metadata": {},
     "output_type": "display_data"
    }
   ],
   "source": [
    "\n",
    "plt.figure(figsize=(12, 8))\n",
    "\n",
    "# Create the scatterplot\n",
    "ax = sns.scatterplot(\n",
    "    x=df_bars['CocoaPercent'],  # CocoaPercent (scaled)\n",
    "    y=df_bars['Rating'],  # Rating (scaled)\n",
    "    hue=kmeans.labels_,     # Cluster labels\n",
    "    s=100\n",
    ")\n",
    "\n",
    "ax.grid(False)  # Remove background grid\n",
    "plt.xlabel('Cocoa Percent')\n",
    "plt.ylabel('Rating ')\n",
    "plt.title('Chocolate Clusters')\n",
    "plt.show()\n"
   ]
  },
  {
   "cell_type": "markdown",
   "id": "31f55b2c-638e-4e07-b5f0-153418e2aef1",
   "metadata": {},
   "source": [
    "# Descriptive statistics and insights"
   ]
  },
  {
   "cell_type": "code",
   "execution_count": 125,
   "id": "de6a6a70-de43-4b28-9cb1-6234b9ed53a4",
   "metadata": {},
   "outputs": [],
   "source": [
    "# Calculate descriptive statistics for each cluster\n",
    "\n",
    "df_bars.loc[df_bars['Cluster'] == 2, 'ClusterColor'] = 'dark purple'\n",
    "df_bars.loc[df_bars['Cluster'] == 1, 'ClusterColor'] = 'purple'\n",
    "df_bars.loc[df_bars['Cluster'] == 0, 'ClusterColor'] = 'pink'\n"
   ]
  },
  {
   "cell_type": "code",
   "execution_count": 127,
   "id": "26cc61b4-3ac2-4711-a626-c8bc08812012",
   "metadata": {},
   "outputs": [
    {
     "data": {
      "text/html": [
       "<div>\n",
       "<style scoped>\n",
       "    .dataframe tbody tr th:only-of-type {\n",
       "        vertical-align: middle;\n",
       "    }\n",
       "\n",
       "    .dataframe tbody tr th {\n",
       "        vertical-align: top;\n",
       "    }\n",
       "\n",
       "    .dataframe thead tr th {\n",
       "        text-align: left;\n",
       "    }\n",
       "\n",
       "    .dataframe thead tr:last-of-type th {\n",
       "        text-align: right;\n",
       "    }\n",
       "</style>\n",
       "<table border=\"1\" class=\"dataframe\">\n",
       "  <thead>\n",
       "    <tr>\n",
       "      <th></th>\n",
       "      <th colspan=\"2\" halign=\"left\">CocoaPercent</th>\n",
       "      <th colspan=\"2\" halign=\"left\">Rating</th>\n",
       "    </tr>\n",
       "    <tr>\n",
       "      <th></th>\n",
       "      <th>mean</th>\n",
       "      <th>median</th>\n",
       "      <th>mean</th>\n",
       "      <th>median</th>\n",
       "    </tr>\n",
       "    <tr>\n",
       "      <th>Cluster</th>\n",
       "      <th></th>\n",
       "      <th></th>\n",
       "      <th></th>\n",
       "      <th></th>\n",
       "    </tr>\n",
       "  </thead>\n",
       "  <tbody>\n",
       "    <tr>\n",
       "      <th>0</th>\n",
       "      <td>70.431342</td>\n",
       "      <td>70.0</td>\n",
       "      <td>3.537474</td>\n",
       "      <td>3.50</td>\n",
       "    </tr>\n",
       "    <tr>\n",
       "      <th>1</th>\n",
       "      <td>70.037425</td>\n",
       "      <td>70.0</td>\n",
       "      <td>2.771332</td>\n",
       "      <td>2.75</td>\n",
       "    </tr>\n",
       "    <tr>\n",
       "      <th>2</th>\n",
       "      <td>85.098266</td>\n",
       "      <td>83.0</td>\n",
       "      <td>2.848266</td>\n",
       "      <td>3.00</td>\n",
       "    </tr>\n",
       "  </tbody>\n",
       "</table>\n",
       "</div>"
      ],
      "text/plain": [
       "        CocoaPercent           Rating       \n",
       "                mean median      mean median\n",
       "Cluster                                     \n",
       "0          70.431342   70.0  3.537474   3.50\n",
       "1          70.037425   70.0  2.771332   2.75\n",
       "2          85.098266   83.0  2.848266   3.00"
      ]
     },
     "execution_count": 127,
     "metadata": {},
     "output_type": "execute_result"
    }
   ],
   "source": [
    "df_bars.groupby('Cluster').agg({\n",
    "    'CocoaPercent': ['mean', 'median'],\n",
    "    'Rating': ['mean', 'median']\n",
    "})\n"
   ]
  },
  {
   "cell_type": "markdown",
   "id": "45bb7592-67ad-4cf1-b0b1-06a433cbc7a6",
   "metadata": {},
   "source": [
    "## Pink \n",
    "\n",
    "- Cocoa Percent: Moderate cocoa content, they are neither too sweet nor top bitter.\n",
    "- Rating:  The average rating is 3.54\n",
    "- Insight: The pink cluster includes chocolate bars with moderate cocoa percentages and the highest average ating among all clusters. These bars strike a desirable balance between sweetness and richness, making them the most consistently enjoyable for reviewers."
   ]
  },
  {
   "cell_type": "markdown",
   "id": "f6c2c27a-ae1e-4ffc-8809-23d0949a2737",
   "metadata": {},
   "source": [
    "## Purple\n",
    "-  Cocoa Percent: Almost identical to cluster 0, sitting around 70%, strong flavor without being overpowering\n",
    "-  Rating: Te average rating is 2.77\n",
    "-  Insight: These chocolates may have similar intensity, but something else, like bitteness, textur, or bean origen is turning reviewers off.\n",
    "-  This Cluster may contain chocolates taht are too standard or forgetable, not standing ou despite having a favorable cocoa range.\n",
    "  "
   ]
  },
  {
   "cell_type": "markdown",
   "id": "d884047f-6ff3-48b4-b759-4c2bb915620d",
   "metadata": {},
   "source": [
    "## Dark purple\n",
    "- Cocoa Percent: With an average of over 85%, these are likely ultra dark chocolates.\n",
    "- Rating: Median rating is 3.0 indicating a split, some reviewers might appreciate the boldness, but others are clearly turned off.\n",
    "- Insights: Cluster 2 represents chocolates with exceptionally high cooa percentages, but lower review scores. These bars may appeal to a specific audience who like bold flavors or better nutritional appeal. suggesting that intensity alone doesent guarantee satisfaction."
   ]
  },
  {
   "cell_type": "markdown",
   "id": "8ccb672f-b08c-4ab7-9acc-848bd401fc27",
   "metadata": {},
   "source": [
    "# Propose of the results and future steps"
   ]
  },
  {
   "cell_type": "markdown",
   "id": "bfad7feb-c741-4734-bc4a-c698905205ca",
   "metadata": {},
   "source": [
    "This data set is the foundation for targeted marketing, flavor recommendations , or product development strategies.\n",
    "\n",
    "- cluster 0: Balanced cocoa and high ratings\n",
    "- cluster 1: Similar cocoa but lower ratings\n",
    "- cluster 2: high cocoa and lower ratings \n",
    "\n",
    "Future steps:\n",
    "- Enrich the clusters based on cocoa and rating with other vriables like bean type, bean origin and manufacter.\n",
    "- uncover patterns like: Are premiun bars all coming from a specific region?\n",
    "-  Build taste profiles (costumerr behavior)\n",
    "  "
   ]
  },
  {
   "cell_type": "code",
   "execution_count": 137,
   "id": "6ac84a4d-77bd-41ba-9da2-199b3eb88b28",
   "metadata": {},
   "outputs": [],
   "source": [
    "df_bars.to_csv(os.path.join(path, '02 Data', 'Prepared Data', 'Chocolate_bars_Updated.csv'))"
   ]
  },
  {
   "cell_type": "code",
   "execution_count": null,
   "id": "f2441184-f6dc-4fb2-bf89-09e63d1a7117",
   "metadata": {},
   "outputs": [],
   "source": []
  }
 ],
 "metadata": {
  "kernelspec": {
   "display_name": "Python [conda env:base] *",
   "language": "python",
   "name": "conda-base-py"
  },
  "language_info": {
   "codemirror_mode": {
    "name": "ipython",
    "version": 3
   },
   "file_extension": ".py",
   "mimetype": "text/x-python",
   "name": "python",
   "nbconvert_exporter": "python",
   "pygments_lexer": "ipython3",
   "version": "3.12.7"
  }
 },
 "nbformat": 4,
 "nbformat_minor": 5
}
